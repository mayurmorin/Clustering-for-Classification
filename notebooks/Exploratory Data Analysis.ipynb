{
 "cells": [
  {
   "cell_type": "markdown",
   "metadata": {},
   "source": [
    "# Getting the Cleaned Data for Exploratory Data Analysis"
   ]
  },
  {
   "cell_type": "code",
   "execution_count": 13,
   "metadata": {},
   "outputs": [],
   "source": [
    "#Getting Libaries\n",
    "import numpy as np\n",
    "import pandas as pd\n",
    "import matplotlib.pyplot as plt\n",
    "import seaborn as sn\n",
    "\n",
    "from sklearn.preprocessing import StandardScaler\n",
    "\n",
    "from sklearn.metrics import roc_auc_score\n",
    "from sklearn.model_selection import train_test_split"
   ]
  },
  {
   "cell_type": "code",
   "execution_count": 48,
   "metadata": {},
   "outputs": [
    {
     "name": "stderr",
     "output_type": "stream",
     "text": [
      "C:\\ProgramData\\Anaconda3\\envs\\opencv\\lib\\site-packages\\ipykernel_launcher.py:5: SettingWithCopyWarning:\n",
      "\n",
      "\n",
      "A value is trying to be set on a copy of a slice from a DataFrame\n",
      "\n",
      "See the caveats in the documentation: http://pandas.pydata.org/pandas-docs/stable/user_guide/indexing.html#returning-a-view-versus-a-copy\n",
      "\n"
     ]
    },
    {
     "name": "stdout",
     "output_type": "stream",
     "text": [
      "      Unnamed: 0  Sensor-1  Sensor-2   Sensor-3   Sensor-4  Sensor-5  \\\n",
      "0        Wafer-0   2988.30   2519.05  2208.8556  1157.7224    1.5509   \n",
      "1        Wafer-1   2987.32   2528.81  2171.8556   940.9917    0.8579   \n",
      "2        Wafer-2   2908.11   2481.85  2207.3889   962.5317    1.2043   \n",
      "3        Wafer-3   3002.27   2497.45  2207.3889   962.5317    1.2043   \n",
      "4        Wafer-4   3010.41   2632.80  2203.9000  1116.4129    1.2639   \n",
      "...          ...       ...       ...        ...        ...       ...   \n",
      "1532  Wafer-1532   2899.41   2464.36  2179.7333  3085.3781    1.4843   \n",
      "1533  Wafer-1533   3052.31   2522.55  2198.5667  1124.6595    0.8763   \n",
      "1534  Wafer-1534   2978.81   2379.78  2206.3000  1110.4967    0.8236   \n",
      "1535  Wafer-1535   2894.92   2532.01  2177.0333  1183.7287    1.5726   \n",
      "1536  Wafer-1536   2944.92   2450.76  2195.4444  2914.1792    1.5978   \n",
      "\n",
      "      Sensor-7  Sensor-8  Sensor-9  Sensor-10  ...  Sensor-581  Sensor-582  \\\n",
      "0     107.8022    0.1233    1.5362    -0.0259  ...      0.0032     47.1586   \n",
      "1      95.9511    0.1195    1.6343    -0.0263  ...      0.0037     10.9425   \n",
      "2     104.0311    0.1210    1.5559     0.0002  ...      0.0023     34.4153   \n",
      "3     104.0311    0.1210    1.5465     0.0195  ...      0.0075    114.5979   \n",
      "4     102.2733    0.1199    1.4227     0.0194  ...      0.0101    125.0600   \n",
      "...        ...       ...       ...        ...  ...         ...         ...   \n",
      "1532   82.2467    0.1248    1.3424    -0.0045  ...      0.0047    203.1720   \n",
      "1533   98.4689    0.1205    1.4333    -0.0061  ...      0.0037     10.9425   \n",
      "1534   99.4122    0.1208    1.4454    -0.0108  ...      0.0025     43.5231   \n",
      "1535   98.7978    0.1213    1.4622    -0.0072  ...      0.0075     93.4941   \n",
      "1536   85.1011    0.1235    1.4454    -0.0108  ...      0.0045    137.7844   \n",
      "\n",
      "      Sensor-583  Sensor-584  Sensor-585  Sensor-586  Sensor-587  Sensor-588  \\\n",
      "0         0.5036      0.0169      0.0039      3.3514      0.0229      0.0108   \n",
      "1         0.5011      0.0117      0.0033      2.3308      0.0229      0.0108   \n",
      "2         0.4947      0.0137      0.0041      2.7729      0.0175      0.0060   \n",
      "3         0.4977      0.0114      0.0037      2.2849      0.0250      0.0286   \n",
      "4         0.5032      0.0159      0.0039      3.1576      0.0288      0.0361   \n",
      "...          ...         ...         ...         ...         ...         ...   \n",
      "1532      0.4988      0.0143      0.0039      2.8669      0.0068      0.0138   \n",
      "1533      0.4975      0.0131      0.0036      2.6238      0.0068      0.0138   \n",
      "1534      0.4987      0.0153      0.0041      3.0590      0.0197      0.0086   \n",
      "1535      0.5004      0.0178      0.0038      3.5662      0.0262      0.0245   \n",
      "1536      0.4987      0.0181      0.0040      3.6275      0.0117      0.0162   \n",
      "\n",
      "      Sensor-589  Sensor-590  \n",
      "0         0.0032     47.1586  \n",
      "1         0.0032     47.1586  \n",
      "2         0.0023     34.4153  \n",
      "3         0.0075    114.5979  \n",
      "4         0.0101    125.0600  \n",
      "...          ...         ...  \n",
      "1532      0.0047    203.1720  \n",
      "1533      0.0047    203.1720  \n",
      "1534      0.0025     43.5231  \n",
      "1535      0.0075     93.4941  \n",
      "1536      0.0045    137.7844  \n",
      "\n",
      "[1537 rows x 475 columns]\n",
      "      Unnamed: 0  Good/Bad\n",
      "0        Wafer-1        -1\n",
      "1        Wafer-2        -1\n",
      "2        Wafer-3        -1\n",
      "3        Wafer-4        -1\n",
      "4        Wafer-5        -1\n",
      "...          ...       ...\n",
      "1532  Wafer-1533        -1\n",
      "1533  Wafer-1534        -1\n",
      "1534  Wafer-1535        -1\n",
      "1535  Wafer-1536        -1\n",
      "1536  Wafer-1537        -1\n",
      "\n",
      "[1537 rows x 2 columns]\n"
     ]
    }
   ],
   "source": [
    "#reading Data\n",
    "raw_data = pd.read_csv('../data/raw/Data Cleaning.csv')\n",
    "y_data = pd.read_excel('../data/raw/Training outputs.xlsx')\n",
    "for i in raw_data['Unnamed: 0']:\n",
    "    raw_data['Unnamed: 0'][i] = 'Wafer-' + str(i) \n",
    "print(raw_data)\n",
    "print(y_data)\n",
    "load_data=pd.merge(raw_data, y_data, on='Unnamed: 0')"
   ]
  },
  {
   "cell_type": "code",
   "execution_count": 15,
   "metadata": {},
   "outputs": [
    {
     "data": {
      "text/plain": [
       "0      -1\n",
       "1      -1\n",
       "2      -1\n",
       "3      -1\n",
       "4      -1\n",
       "       ..\n",
       "1532   -1\n",
       "1533   -1\n",
       "1534   -1\n",
       "1535   -1\n",
       "1536   -1\n",
       "Name: Good/Bad, Length: 1537, dtype: int64"
      ]
     },
     "execution_count": 15,
     "metadata": {},
     "output_type": "execute_result"
    }
   ],
   "source": [
    "#Get a glimpse of Data\n",
    "raw_data.head()\n",
    "y_data['Good/Bad']"
   ]
  },
  {
   "cell_type": "code",
   "execution_count": 16,
   "metadata": {},
   "outputs": [
    {
     "data": {
      "text/html": [
       "<div>\n",
       "<style scoped>\n",
       "    .dataframe tbody tr th:only-of-type {\n",
       "        vertical-align: middle;\n",
       "    }\n",
       "\n",
       "    .dataframe tbody tr th {\n",
       "        vertical-align: top;\n",
       "    }\n",
       "\n",
       "    .dataframe thead th {\n",
       "        text-align: right;\n",
       "    }\n",
       "</style>\n",
       "<table border=\"1\" class=\"dataframe\">\n",
       "  <thead>\n",
       "    <tr style=\"text-align: right;\">\n",
       "      <th></th>\n",
       "      <th>Unnamed: 0</th>\n",
       "      <th>Sensor-1</th>\n",
       "      <th>Sensor-2</th>\n",
       "      <th>Sensor-3</th>\n",
       "      <th>Sensor-4</th>\n",
       "      <th>Sensor-5</th>\n",
       "      <th>Sensor-7</th>\n",
       "      <th>Sensor-8</th>\n",
       "      <th>Sensor-9</th>\n",
       "      <th>Sensor-10</th>\n",
       "      <th>...</th>\n",
       "      <th>Sensor-581</th>\n",
       "      <th>Sensor-582</th>\n",
       "      <th>Sensor-583</th>\n",
       "      <th>Sensor-584</th>\n",
       "      <th>Sensor-585</th>\n",
       "      <th>Sensor-586</th>\n",
       "      <th>Sensor-587</th>\n",
       "      <th>Sensor-588</th>\n",
       "      <th>Sensor-589</th>\n",
       "      <th>Sensor-590</th>\n",
       "    </tr>\n",
       "  </thead>\n",
       "  <tbody>\n",
       "    <tr>\n",
       "      <th>count</th>\n",
       "      <td>1537.000000</td>\n",
       "      <td>1537.000000</td>\n",
       "      <td>1537.000000</td>\n",
       "      <td>1537.000000</td>\n",
       "      <td>1537.000000</td>\n",
       "      <td>1537.000000</td>\n",
       "      <td>1537.000000</td>\n",
       "      <td>1537.000000</td>\n",
       "      <td>1537.000000</td>\n",
       "      <td>1537.000000</td>\n",
       "      <td>...</td>\n",
       "      <td>1537.000000</td>\n",
       "      <td>1537.000000</td>\n",
       "      <td>1537.000000</td>\n",
       "      <td>1537.000000</td>\n",
       "      <td>1537.000000</td>\n",
       "      <td>1537.000000</td>\n",
       "      <td>1537.000000</td>\n",
       "      <td>1537.000000</td>\n",
       "      <td>1537.000000</td>\n",
       "      <td>1537.000000</td>\n",
       "    </tr>\n",
       "    <tr>\n",
       "      <th>mean</th>\n",
       "      <td>768.000000</td>\n",
       "      <td>3014.606831</td>\n",
       "      <td>2495.503064</td>\n",
       "      <td>2200.110458</td>\n",
       "      <td>1396.614392</td>\n",
       "      <td>4.224715</td>\n",
       "      <td>101.015871</td>\n",
       "      <td>0.122448</td>\n",
       "      <td>1.461884</td>\n",
       "      <td>-0.000846</td>\n",
       "      <td>...</td>\n",
       "      <td>0.004339</td>\n",
       "      <td>44.622110</td>\n",
       "      <td>0.500104</td>\n",
       "      <td>0.015027</td>\n",
       "      <td>0.003782</td>\n",
       "      <td>3.007246</td>\n",
       "      <td>0.021432</td>\n",
       "      <td>0.016414</td>\n",
       "      <td>0.005268</td>\n",
       "      <td>101.447126</td>\n",
       "    </tr>\n",
       "    <tr>\n",
       "      <th>std</th>\n",
       "      <td>443.837996</td>\n",
       "      <td>74.065145</td>\n",
       "      <td>80.312452</td>\n",
       "      <td>29.451821</td>\n",
       "      <td>442.779714</td>\n",
       "      <td>56.647650</td>\n",
       "      <td>6.258092</td>\n",
       "      <td>0.001909</td>\n",
       "      <td>0.074033</td>\n",
       "      <td>0.015025</td>\n",
       "      <td>...</td>\n",
       "      <td>0.002095</td>\n",
       "      <td>69.486486</td>\n",
       "      <td>0.003356</td>\n",
       "      <td>0.012696</td>\n",
       "      <td>0.002733</td>\n",
       "      <td>2.640841</td>\n",
       "      <td>0.012398</td>\n",
       "      <td>0.008768</td>\n",
       "      <td>0.002865</td>\n",
       "      <td>93.485114</td>\n",
       "    </tr>\n",
       "    <tr>\n",
       "      <th>min</th>\n",
       "      <td>0.000000</td>\n",
       "      <td>2743.240000</td>\n",
       "      <td>2158.750000</td>\n",
       "      <td>2060.660000</td>\n",
       "      <td>711.025800</td>\n",
       "      <td>0.681500</td>\n",
       "      <td>82.131100</td>\n",
       "      <td>0.116000</td>\n",
       "      <td>1.191000</td>\n",
       "      <td>-0.053400</td>\n",
       "      <td>...</td>\n",
       "      <td>0.001000</td>\n",
       "      <td>10.942500</td>\n",
       "      <td>0.477800</td>\n",
       "      <td>0.006000</td>\n",
       "      <td>0.001700</td>\n",
       "      <td>1.197500</td>\n",
       "      <td>-0.016900</td>\n",
       "      <td>0.003200</td>\n",
       "      <td>0.001000</td>\n",
       "      <td>10.942500</td>\n",
       "    </tr>\n",
       "    <tr>\n",
       "      <th>25%</th>\n",
       "      <td>384.000000</td>\n",
       "      <td>2966.260000</td>\n",
       "      <td>2452.520000</td>\n",
       "      <td>2180.700000</td>\n",
       "      <td>1081.566200</td>\n",
       "      <td>1.009600</td>\n",
       "      <td>97.720000</td>\n",
       "      <td>0.121100</td>\n",
       "      <td>1.410300</td>\n",
       "      <td>-0.010800</td>\n",
       "      <td>...</td>\n",
       "      <td>0.003700</td>\n",
       "      <td>10.942500</td>\n",
       "      <td>0.497900</td>\n",
       "      <td>0.011600</td>\n",
       "      <td>0.003100</td>\n",
       "      <td>2.309900</td>\n",
       "      <td>0.013400</td>\n",
       "      <td>0.010600</td>\n",
       "      <td>0.003300</td>\n",
       "      <td>45.964100</td>\n",
       "    </tr>\n",
       "    <tr>\n",
       "      <th>50%</th>\n",
       "      <td>768.000000</td>\n",
       "      <td>3011.820000</td>\n",
       "      <td>2499.350000</td>\n",
       "      <td>2200.733300</td>\n",
       "      <td>1283.436800</td>\n",
       "      <td>1.310100</td>\n",
       "      <td>101.457800</td>\n",
       "      <td>0.122400</td>\n",
       "      <td>1.460400</td>\n",
       "      <td>-0.001400</td>\n",
       "      <td>...</td>\n",
       "      <td>0.003700</td>\n",
       "      <td>10.942500</td>\n",
       "      <td>0.500100</td>\n",
       "      <td>0.013800</td>\n",
       "      <td>0.003600</td>\n",
       "      <td>2.757700</td>\n",
       "      <td>0.020700</td>\n",
       "      <td>0.014800</td>\n",
       "      <td>0.004600</td>\n",
       "      <td>73.865700</td>\n",
       "    </tr>\n",
       "    <tr>\n",
       "      <th>75%</th>\n",
       "      <td>1152.000000</td>\n",
       "      <td>3057.310000</td>\n",
       "      <td>2538.430000</td>\n",
       "      <td>2217.866700</td>\n",
       "      <td>1591.223500</td>\n",
       "      <td>1.529100</td>\n",
       "      <td>104.521100</td>\n",
       "      <td>0.123800</td>\n",
       "      <td>1.516400</td>\n",
       "      <td>0.008300</td>\n",
       "      <td>...</td>\n",
       "      <td>0.003800</td>\n",
       "      <td>54.476100</td>\n",
       "      <td>0.502300</td>\n",
       "      <td>0.016500</td>\n",
       "      <td>0.004100</td>\n",
       "      <td>3.295400</td>\n",
       "      <td>0.027600</td>\n",
       "      <td>0.020300</td>\n",
       "      <td>0.006400</td>\n",
       "      <td>115.100500</td>\n",
       "    </tr>\n",
       "    <tr>\n",
       "      <th>max</th>\n",
       "      <td>1536.000000</td>\n",
       "      <td>3356.350000</td>\n",
       "      <td>2846.440000</td>\n",
       "      <td>2315.266700</td>\n",
       "      <td>3715.041700</td>\n",
       "      <td>1114.536600</td>\n",
       "      <td>129.252200</td>\n",
       "      <td>0.128600</td>\n",
       "      <td>1.656400</td>\n",
       "      <td>0.074900</td>\n",
       "      <td>...</td>\n",
       "      <td>0.028600</td>\n",
       "      <td>737.304800</td>\n",
       "      <td>0.509800</td>\n",
       "      <td>0.471400</td>\n",
       "      <td>0.103900</td>\n",
       "      <td>98.662800</td>\n",
       "      <td>0.102800</td>\n",
       "      <td>0.079900</td>\n",
       "      <td>0.028600</td>\n",
       "      <td>737.304800</td>\n",
       "    </tr>\n",
       "  </tbody>\n",
       "</table>\n",
       "<p>8 rows × 475 columns</p>\n",
       "</div>"
      ],
      "text/plain": [
       "        Unnamed: 0     Sensor-1     Sensor-2     Sensor-3     Sensor-4  \\\n",
       "count  1537.000000  1537.000000  1537.000000  1537.000000  1537.000000   \n",
       "mean    768.000000  3014.606831  2495.503064  2200.110458  1396.614392   \n",
       "std     443.837996    74.065145    80.312452    29.451821   442.779714   \n",
       "min       0.000000  2743.240000  2158.750000  2060.660000   711.025800   \n",
       "25%     384.000000  2966.260000  2452.520000  2180.700000  1081.566200   \n",
       "50%     768.000000  3011.820000  2499.350000  2200.733300  1283.436800   \n",
       "75%    1152.000000  3057.310000  2538.430000  2217.866700  1591.223500   \n",
       "max    1536.000000  3356.350000  2846.440000  2315.266700  3715.041700   \n",
       "\n",
       "          Sensor-5     Sensor-7     Sensor-8     Sensor-9    Sensor-10  ...  \\\n",
       "count  1537.000000  1537.000000  1537.000000  1537.000000  1537.000000  ...   \n",
       "mean      4.224715   101.015871     0.122448     1.461884    -0.000846  ...   \n",
       "std      56.647650     6.258092     0.001909     0.074033     0.015025  ...   \n",
       "min       0.681500    82.131100     0.116000     1.191000    -0.053400  ...   \n",
       "25%       1.009600    97.720000     0.121100     1.410300    -0.010800  ...   \n",
       "50%       1.310100   101.457800     0.122400     1.460400    -0.001400  ...   \n",
       "75%       1.529100   104.521100     0.123800     1.516400     0.008300  ...   \n",
       "max    1114.536600   129.252200     0.128600     1.656400     0.074900  ...   \n",
       "\n",
       "        Sensor-581   Sensor-582   Sensor-583   Sensor-584   Sensor-585  \\\n",
       "count  1537.000000  1537.000000  1537.000000  1537.000000  1537.000000   \n",
       "mean      0.004339    44.622110     0.500104     0.015027     0.003782   \n",
       "std       0.002095    69.486486     0.003356     0.012696     0.002733   \n",
       "min       0.001000    10.942500     0.477800     0.006000     0.001700   \n",
       "25%       0.003700    10.942500     0.497900     0.011600     0.003100   \n",
       "50%       0.003700    10.942500     0.500100     0.013800     0.003600   \n",
       "75%       0.003800    54.476100     0.502300     0.016500     0.004100   \n",
       "max       0.028600   737.304800     0.509800     0.471400     0.103900   \n",
       "\n",
       "        Sensor-586   Sensor-587   Sensor-588   Sensor-589   Sensor-590  \n",
       "count  1537.000000  1537.000000  1537.000000  1537.000000  1537.000000  \n",
       "mean      3.007246     0.021432     0.016414     0.005268   101.447126  \n",
       "std       2.640841     0.012398     0.008768     0.002865    93.485114  \n",
       "min       1.197500    -0.016900     0.003200     0.001000    10.942500  \n",
       "25%       2.309900     0.013400     0.010600     0.003300    45.964100  \n",
       "50%       2.757700     0.020700     0.014800     0.004600    73.865700  \n",
       "75%       3.295400     0.027600     0.020300     0.006400   115.100500  \n",
       "max      98.662800     0.102800     0.079900     0.028600   737.304800  \n",
       "\n",
       "[8 rows x 475 columns]"
      ]
     },
     "execution_count": 16,
     "metadata": {},
     "output_type": "execute_result"
    }
   ],
   "source": [
    "#Generate descriptive statistics that summarize the central tendency, dispersion and shape of a \n",
    "#dataset's distribution, excluding ``NaN`` values.\n",
    "raw_data.describe()"
   ]
  },
  {
   "cell_type": "markdown",
   "metadata": {},
   "source": [
    "#Observation from Describe() functions\n",
    "#1. <b>Count:</b> It displays total number of records which has actual value without NaN. This NaN values can be replaced with Mean, Median, Mode, Average Value\n",
    "#2. <b>Mean:</b>Tells the average value of the data\n",
    "#3. <b>std:</b>Standard deviation is a number used to tell how measurements for a group are spread out from the average (mean), or expected value\n",
    "#4. <b>Min:</b> Check for minimum values for a particular column, if data is having minimum values as zero, then there is no value of it and should be replaced with some value.\n"
   ]
  },
  {
   "cell_type": "markdown",
   "metadata": {},
   "source": [
    "#4. Min: Check for minimum values for a particular column, if data is having minimum values as zero, then there is no value of it and should be replaced with some value."
   ]
  },
  {
   "cell_type": "code",
   "execution_count": 17,
   "metadata": {},
   "outputs": [
    {
     "data": {
      "text/plain": [
       "(1537, 475)"
      ]
     },
     "execution_count": 17,
     "metadata": {},
     "output_type": "execute_result"
    }
   ],
   "source": [
    "#Knowning Number of Rows and Columns\n",
    "raw_data.shape"
   ]
  },
  {
   "cell_type": "markdown",
   "metadata": {},
   "source": [
    "<b>Normalisation</b><p>\n",
    "One method utilised to bring all the variables to a more homogeneous scale is normalisation. Normalisation is synonym of centering the distribution. This means subtracting the mean of the variable to each observation. This procedure will \"center\" the new distribution at zero (the new mean of the variable will now be zero).\n",
    "\n",
    "<b>Standarisation</b><p>\n",
    "Standarisation is also used to bring all the variables to a similar scale. Standarisation means centering the variable at zero, and standarising the variance at 1. The procedure involves subtracting the mean of each observation and then dividing by the standard deviation:\n",
    "\n",
    "z = (x - x_mean) / std"
   ]
  },
  {
   "cell_type": "code",
   "execution_count": 18,
   "metadata": {},
   "outputs": [
    {
     "data": {
      "text/plain": [
       "((1075, 475), (462, 475))"
      ]
     },
     "execution_count": 18,
     "metadata": {},
     "output_type": "execute_result"
    }
   ],
   "source": [
    "# let's separate into training and testing set\n",
    "X_train, X_test, y_train, y_test = train_test_split(raw_data,\n",
    "                                                    y_data['Good/Bad'], test_size=0.3,\n",
    "                                                    random_state=0)\n",
    "X_train.shape, X_test.shape"
   ]
  },
  {
   "cell_type": "code",
   "execution_count": 19,
   "metadata": {},
   "outputs": [],
   "source": [
    "# standarisation: we use the StandardScaler from sklearn\n",
    "y_data['Good/Bad']\n",
    "scaler = StandardScaler() # create an object\n",
    "X_train_scaled = scaler.fit_transform(X_train) # fit the scaler to the train set, and then transform it\n",
    "X_test_scaled = scaler.transform(X_test) # transform the test set"
   ]
  },
  {
   "cell_type": "markdown",
   "metadata": {},
   "source": [
    "<h4>Major Clustering Approaches</h4><p>\n",
    "• <b>Partitioning algorithms:</b> Construct various partitions and then\n",
    "evaluate them by some criterion<p>\n",
    "• <b>Hierarchy algorithms:</b> Create a hierarchical decomposition of the\n",
    "set of data (or objects) using some criterion<p>\n",
    "• <b>Density-based:</b> based on connectivity and density functions<p>\n",
    "• <b>Grid-based:</b> based on a multiple-level granularity structure<p>\n",
    "• <b>Model-based:</b> A model is hypothesized for each of the clusters and\n",
    "the idea is to find the best fit of that model to each other<p>"
   ]
  },
  {
   "cell_type": "code",
   "execution_count": 21,
   "metadata": {},
   "outputs": [],
   "source": [
    "a = np.asarray(X_train_scaled)\n",
    "np.savetxt(\"../data/raw/X_train_scaled.csv\", a, delimiter=\",\")\n",
    "b = np.asarray(X_test_scaled)\n",
    "np.savetxt(\"../data/raw/X_test_scaled.csv\", b, delimiter=\",\")"
   ]
  },
  {
   "cell_type": "code",
   "execution_count": 30,
   "metadata": {},
   "outputs": [
    {
     "data": {
      "image/png": "[encoded data removed]",
      "text/plain": [
       "<Figure size 432x288 with 1 Axes>"
      ]
     },
     "metadata": {
      "needs_background": "light"
     },
     "output_type": "display_data"
    },
    {
     "data": {
      "image/png": "[encoded data removed]",
      "text/plain": [
       "<Figure size 432x288 with 1 Axes>"
      ]
     },
     "metadata": {
      "needs_background": "light"
     },
     "output_type": "display_data"
    }
   ],
   "source": [
    "from sklearn.cluster import KMeans\n",
    "wcss = []\n",
    "clusters = []\n",
    "for i in range(1, 101):\n",
    "    kmeans = KMeans(n_clusters = i, init = 'k-means++', random_state = 42)\n",
    "    kmeans.fit(raw_data)\n",
    "    wcss.append(kmeans.inertia_)\n",
    "    clusters.append('Clusters'+str(i))\n",
    "plt.plot(range(1, 101), wcss)\n",
    "plt.title('The Elbow Method')\n",
    "plt.xlabel('Number of clusters')\n",
    "plt.ylabel('WCSS')\n",
    "plt.show()\n",
    "\n",
    "# Fitting K-Means to the dataset\n",
    "kmeans = KMeans(n_clusters = 10, init = 'k-means++', random_state = 42)\n",
    "y_kmeans = kmeans.fit_predict(X_train_scaled)\n",
    "c = np.asarray(y_kmeans)\n",
    "np.savetxt(\"../data/raw/y_kmeans.csv\", c, delimiter=\",\")\n",
    "\n",
    "# Visualising the clusters\n",
    "for i in range(1, 11):\n",
    "    plt.scatter(X_train_scaled[y_kmeans == i-1, 0], X_train_scaled[y_kmeans == i-1, 1], s = 100, label = clusters[i-1])\n",
    "\n",
    "plt.scatter(kmeans.cluster_centers_[:, 0], kmeans.cluster_centers_[:, 1], s = 300, c = 'yellow', label = 'Centroids')\n",
    "plt.title('Clusters of Sensors')\n",
    "plt.xlabel('Wafer')\n",
    "plt.ylabel('Sensors (1-437)')\n",
    "plt.legend()\n",
    "plt.show()"
   ]
  },
  {
   "cell_type": "code",
   "execution_count": 33,
   "metadata": {},
   "outputs": [
    {
     "data": {
      "image/png": "[encoded data removed]",
      "text/plain": [
       "<Figure size 432x288 with 1 Axes>"
      ]
     },
     "metadata": {
      "needs_background": "light"
     },
     "output_type": "display_data"
    },
    {
     "data": {
      "image/png": "[encoded data removed]",
      "text/plain": [
       "<Figure size 432x288 with 1 Axes>"
      ]
     },
     "metadata": {
      "needs_background": "light"
     },
     "output_type": "display_data"
    }
   ],
   "source": [
    "\n",
    "# Using the Dendogram to find optimum number of clusters\n",
    "import scipy.cluster.hierarchy as sch\n",
    "dendrogram = sch.dendrogram(sch.linkage(X_train_scaled,method='ward'))\n",
    "plt.title('Dendrogram')\n",
    "plt.xlabel('Wafers')\n",
    "plt.ylabel('Eucladian Distance')\n",
    "plt.show()\n",
    "\n",
    "#Fitting heirarchical clustering class to mall dataset\n",
    "from sklearn.cluster import AgglomerativeClustering\n",
    "hc = AgglomerativeClustering(n_clusters=10, affinity='euclidean', linkage='ward')\n",
    "y_hc = hc.fit_predict(X_train_scaled)\n",
    "\n",
    "#Visualizing the Clusters\n",
    "for i in range(1, 11):\n",
    "    plt.scatter(X_train_scaled[y_kmeans == i-1, 0], X_train_scaled[y_kmeans == i-1, 1], s = 100, label = clusters[i-1])\n",
    "\n",
    "plt.title('Clusters of Sensors')\n",
    "plt.xlabel('Wafers')\n",
    "plt.ylabel('Sensors')\n",
    "plt.legend()\n",
    "plt.show()"
   ]
  },
  {
   "cell_type": "code",
   "execution_count": 40,
   "metadata": {},
   "outputs": [
    {
     "name": "stdout",
     "output_type": "stream",
     "text": [
      "[-1 -1 -1 ... -1 -1 -1]\n",
      "[]\n"
     ]
    },
    {
     "ename": "TypeError",
     "evalue": "'(slice(None, None, None), 0)' is an invalid key",
     "output_type": "error",
     "traceback": [
      "\u001b[1;31m---------------------------------------------------------------------------\u001b[0m",
      "\u001b[1;31mTypeError\u001b[0m                                 Traceback (most recent call last)",
      "\u001b[1;32m<ipython-input-40-16df6fdd0542>\u001b[0m in \u001b[0;36m<module>\u001b[1;34m\u001b[0m\n\u001b[0;32m     17\u001b[0m \u001b[1;33m\u001b[0m\u001b[0m\n\u001b[0;32m     18\u001b[0m \u001b[1;31m# Plot up the results!\u001b[0m\u001b[1;33m\u001b[0m\u001b[1;33m\u001b[0m\u001b[1;33m\u001b[0m\u001b[0m\n\u001b[1;32m---> 19\u001b[1;33m \u001b[0mmin_x\u001b[0m \u001b[1;33m=\u001b[0m \u001b[0mnp\u001b[0m\u001b[1;33m.\u001b[0m\u001b[0mmin\u001b[0m\u001b[1;33m(\u001b[0m\u001b[0mX_train\u001b[0m\u001b[1;33m[\u001b[0m\u001b[1;33m:\u001b[0m\u001b[1;33m,\u001b[0m \u001b[1;36m0\u001b[0m\u001b[1;33m]\u001b[0m\u001b[1;33m)\u001b[0m\u001b[1;33m\u001b[0m\u001b[1;33m\u001b[0m\u001b[0m\n\u001b[0m\u001b[0;32m     20\u001b[0m \u001b[0mmax_x\u001b[0m \u001b[1;33m=\u001b[0m \u001b[0mnp\u001b[0m\u001b[1;33m.\u001b[0m\u001b[0mmax\u001b[0m\u001b[1;33m(\u001b[0m\u001b[0mX_train\u001b[0m\u001b[1;33m[\u001b[0m\u001b[1;33m:\u001b[0m\u001b[1;33m,\u001b[0m \u001b[1;36m0\u001b[0m\u001b[1;33m]\u001b[0m\u001b[1;33m)\u001b[0m\u001b[1;33m\u001b[0m\u001b[1;33m\u001b[0m\u001b[0m\n\u001b[0;32m     21\u001b[0m \u001b[0mmin_y\u001b[0m \u001b[1;33m=\u001b[0m \u001b[0mnp\u001b[0m\u001b[1;33m.\u001b[0m\u001b[0mmin\u001b[0m\u001b[1;33m(\u001b[0m\u001b[0my_train\u001b[0m\u001b[1;33m[\u001b[0m\u001b[1;33m:\u001b[0m\u001b[1;33m,\u001b[0m \u001b[1;36m1\u001b[0m\u001b[1;33m]\u001b[0m\u001b[1;33m)\u001b[0m\u001b[1;33m\u001b[0m\u001b[1;33m\u001b[0m\u001b[0m\n",
      "\u001b[1;32mC:\\ProgramData\\Anaconda3\\envs\\opencv\\lib\\site-packages\\pandas\\core\\frame.py\u001b[0m in \u001b[0;36m__getitem__\u001b[1;34m(self, key)\u001b[0m\n\u001b[0;32m   2973\u001b[0m             \u001b[1;32mif\u001b[0m \u001b[0mself\u001b[0m\u001b[1;33m.\u001b[0m\u001b[0mcolumns\u001b[0m\u001b[1;33m.\u001b[0m\u001b[0mnlevels\u001b[0m \u001b[1;33m>\u001b[0m \u001b[1;36m1\u001b[0m\u001b[1;33m:\u001b[0m\u001b[1;33m\u001b[0m\u001b[1;33m\u001b[0m\u001b[0m\n\u001b[0;32m   2974\u001b[0m                 \u001b[1;32mreturn\u001b[0m \u001b[0mself\u001b[0m\u001b[1;33m.\u001b[0m\u001b[0m_getitem_multilevel\u001b[0m\u001b[1;33m(\u001b[0m\u001b[0mkey\u001b[0m\u001b[1;33m)\u001b[0m\u001b[1;33m\u001b[0m\u001b[1;33m\u001b[0m\u001b[0m\n\u001b[1;32m-> 2975\u001b[1;33m             \u001b[0mindexer\u001b[0m \u001b[1;33m=\u001b[0m \u001b[0mself\u001b[0m\u001b[1;33m.\u001b[0m\u001b[0mcolumns\u001b[0m\u001b[1;33m.\u001b[0m\u001b[0mget_loc\u001b[0m\u001b[1;33m(\u001b[0m\u001b[0mkey\u001b[0m\u001b[1;33m)\u001b[0m\u001b[1;33m\u001b[0m\u001b[1;33m\u001b[0m\u001b[0m\n\u001b[0m\u001b[0;32m   2976\u001b[0m             \u001b[1;32mif\u001b[0m \u001b[0mis_integer\u001b[0m\u001b[1;33m(\u001b[0m\u001b[0mindexer\u001b[0m\u001b[1;33m)\u001b[0m\u001b[1;33m:\u001b[0m\u001b[1;33m\u001b[0m\u001b[1;33m\u001b[0m\u001b[0m\n\u001b[0;32m   2977\u001b[0m                 \u001b[0mindexer\u001b[0m \u001b[1;33m=\u001b[0m \u001b[1;33m[\u001b[0m\u001b[0mindexer\u001b[0m\u001b[1;33m]\u001b[0m\u001b[1;33m\u001b[0m\u001b[1;33m\u001b[0m\u001b[0m\n",
      "\u001b[1;32mC:\\ProgramData\\Anaconda3\\envs\\opencv\\lib\\site-packages\\pandas\\core\\indexes\\base.py\u001b[0m in \u001b[0;36mget_loc\u001b[1;34m(self, key, method, tolerance)\u001b[0m\n\u001b[0;32m   2888\u001b[0m                 )\n\u001b[0;32m   2889\u001b[0m             \u001b[1;32mtry\u001b[0m\u001b[1;33m:\u001b[0m\u001b[1;33m\u001b[0m\u001b[1;33m\u001b[0m\u001b[0m\n\u001b[1;32m-> 2890\u001b[1;33m                 \u001b[1;32mreturn\u001b[0m \u001b[0mself\u001b[0m\u001b[1;33m.\u001b[0m\u001b[0m_engine\u001b[0m\u001b[1;33m.\u001b[0m\u001b[0mget_loc\u001b[0m\u001b[1;33m(\u001b[0m\u001b[0mkey\u001b[0m\u001b[1;33m)\u001b[0m\u001b[1;33m\u001b[0m\u001b[1;33m\u001b[0m\u001b[0m\n\u001b[0m\u001b[0;32m   2891\u001b[0m             \u001b[1;32mexcept\u001b[0m \u001b[0mKeyError\u001b[0m\u001b[1;33m:\u001b[0m\u001b[1;33m\u001b[0m\u001b[1;33m\u001b[0m\u001b[0m\n\u001b[0;32m   2892\u001b[0m                 \u001b[1;32mreturn\u001b[0m \u001b[0mself\u001b[0m\u001b[1;33m.\u001b[0m\u001b[0m_engine\u001b[0m\u001b[1;33m.\u001b[0m\u001b[0mget_loc\u001b[0m\u001b[1;33m(\u001b[0m\u001b[0mself\u001b[0m\u001b[1;33m.\u001b[0m\u001b[0m_maybe_cast_indexer\u001b[0m\u001b[1;33m(\u001b[0m\u001b[0mkey\u001b[0m\u001b[1;33m)\u001b[0m\u001b[1;33m)\u001b[0m\u001b[1;33m\u001b[0m\u001b[1;33m\u001b[0m\u001b[0m\n",
      "\u001b[1;32mpandas\\_libs\\index.pyx\u001b[0m in \u001b[0;36mpandas._libs.index.IndexEngine.get_loc\u001b[1;34m()\u001b[0m\n",
      "\u001b[1;32mpandas\\_libs\\index.pyx\u001b[0m in \u001b[0;36mpandas._libs.index.IndexEngine.get_loc\u001b[1;34m()\u001b[0m\n",
      "\u001b[1;31mTypeError\u001b[0m: '(slice(None, None, None), 0)' is an invalid key"
     ]
    }
   ],
   "source": [
    "import numpy as np\n",
    "import matplotlib.pyplot as plt\n",
    "import cv2\n",
    "from sklearn.cluster import DBSCAN\n",
    "data = raw_data\n",
    "max_distance = 0.1\n",
    "db = DBSCAN(eps=max_distance, min_samples=10).fit(X_train)\n",
    "print(db.labels_)\n",
    "print(db.core_sample_indices_)\n",
    "# Extract a mask of core cluster members\n",
    "core_samples_mask = np.zeros_like(db.labels_, dtype=bool)\n",
    "core_samples_mask[db.core_sample_indices_] = True\n",
    "# Extract labels (-1 is used for outliers)\n",
    "labels = db.labels_\n",
    "n_clusters = len(set(labels)) - (1 if -1 in labels else 0)\n",
    "unique_labels = set(labels)\n",
    "\n",
    "# Plot up the results!\n",
    "min_x = np.min(X_train[:, 0])\n",
    "max_x = np.max(X_train[:, 0])\n",
    "min_y = np.min(y_train[:, 1])\n",
    "max_y = np.max(y_train[:, 1])\n",
    "\n",
    "fig = plt.figure(figsize=(12,6))\n",
    "plt.subplot(121)\n",
    "plt.plot(X_train[:,0], y_train[:,1], 'ko')\n",
    "plt.xlim(min_x, max_x)\n",
    "plt.ylim(min_y, max_y)\n",
    "plt.title('Original Data', fontsize = 20)\n",
    "\n",
    "plt.subplot(122)\n",
    "# The following is just a fancy way of plotting core, edge and outliers\n",
    "# Credit to: http://scikit-learn.org/stable/auto_examples/cluster/plot_dbscan.html#sphx-glr-auto-examples-cluster-plot-dbscan-py\n",
    "colors = [plt.cm.Spectral(each) for each in np.linspace(0, 1, len(unique_labels))]\n",
    "for k, col in zip(unique_labels, colors):\n",
    "    if k == -1:\n",
    "        # Black used for noise.\n",
    "        col = [0, 0, 0, 1]\n",
    "\n",
    "    class_member_mask = (labels == k)\n",
    "\n",
    "    xy = X_train[class_member_mask & core_samples_mask]\n",
    "    plt.plot(xy[:, 0], xy[:, 1], 'o', markerfacecolor=tuple(col),\n",
    "             markeredgecolor='k', markersize=7)\n",
    "\n",
    "    xy = y_train[class_member_mask & ~core_samples_mask]\n",
    "    plt.plot(xy[:, 0], xy[:, 1], 'o', markerfacecolor=tuple(col),\n",
    "             markeredgecolor='k', markersize=3)\n",
    "plt.xlim(min_x, max_x)\n",
    "plt.ylim(min_y, max_y)\n",
    "plt.title('DBSCAN: %d clusters found' % n_clusters, fontsize = 20)\n",
    "fig.tight_layout()\n",
    "plt.subplots_adjust(left=0.03, right=0.98, top=0.9, bottom=0.05)"
   ]
  },
  {
   "cell_type": "code",
   "execution_count": null,
   "metadata": {},
   "outputs": [],
   "source": [
    "# initializing the pca\n",
    "from sklearn import decomposition\n",
    "import seaborn as sn\n",
    "pca = decomposition.PCA()\n",
    "# configuring the parameteres\n",
    "# the number of components = 2\n",
    "pca.n_components = 2\n",
    "pca_data = pca.fit_transform(X_train_scaled)\n",
    "\n",
    "# pca_reduced will contain the 2-d projects of simple data\n",
    "print(\"shape of pca_reduced.shape = \", pca_data.shape)\n",
    "\n",
    "# attaching the label for each 2-d data point \n",
    "pca_data = np.vstack((pca_data.T, labels)).T\n",
    "\n",
    "# creating a new data fram which help us in ploting the result data\n",
    "pca_df = pd.DataFrame(data=pca_data, columns=(\"1st_principal\", \"2nd_principal\", \"label\"))\n",
    "sn.FacetGrid(pca_df, hue=\"label\", size=6).map(plt.scatter, '1st_principal', '2nd_principal').add_legend()\n",
    "plt.show()\n",
    "\n",
    "# PCA for dimensionality redcution (non-visualization)\n",
    "\n",
    "pca.n_components = 479\n",
    "pca_data = pca.fit_transform(new_raw_data)\n",
    "\n",
    "percentage_var_explained = pca.explained_variance_ / np.sum(pca.explained_variance_);\n",
    "\n",
    "cum_var_explained = np.cumsum(percentage_var_explained)\n",
    "\n",
    "# Plot the PCA spectrum\n",
    "plt.figure(1, figsize=(6, 4))\n",
    "\n",
    "plt.clf()\n",
    "plt.plot(cum_var_explained, linewidth=2)\n",
    "plt.axis('tight')\n",
    "plt.grid()\n",
    "plt.xlabel('n_components')\n",
    "plt.ylabel('Cumulative_explained_variance')\n",
    "plt.show()\n",
    "\n",
    "\n",
    "# If we take 200-dimensions, approx. 90% of variance is expalined."
   ]
  },
  {
   "cell_type": "code",
   "execution_count": null,
   "metadata": {},
   "outputs": [],
   "source": [
    "# TSNE\n",
    "\n",
    "from sklearn.manifold import TSNE\n",
    "\n",
    "# Picking the top 1000 points as TSNE takes a lot of time for 15K points\n",
    "data_1000 = X_train_scaled\n",
    "labels_1000 = X_train_scaled\n",
    "\n",
    "model = TSNE(n_components=2, random_state=0)\n",
    "# configuring the parameteres\n",
    "# the number of components = 2\n",
    "# default perplexity = 30\n",
    "# default learning rate = 200\n",
    "# default Maximum number of iterations for the optimization = 1000\n",
    "\n",
    "tsne_data = model.fit_transform(data_1000)\n",
    "\n",
    "\n",
    "# creating a new data frame which help us in ploting the result data\n",
    "tsne_data = np.vstack((tsne_data.T, labels_1000)).T\n",
    "tsne_df = pd.DataFrame(data=tsne_data, columns=(\"Dim_1\", \"Dim_2\", \"label\"))\n",
    "\n",
    "# Ploting the result of tsne\n",
    "sn.FacetGrid(tsne_df, hue=\"label\", size=6).map(plt.scatter, 'Dim_1', 'Dim_2').add_legend()\n",
    "plt.show()"
   ]
  },
  {
   "cell_type": "code",
   "execution_count": null,
   "metadata": {},
   "outputs": [],
   "source": [
    "raw_data"
   ]
  },
  {
   "cell_type": "code",
   "execution_count": null,
   "metadata": {},
   "outputs": [],
   "source": []
  }
 ],
 "metadata": {
  "kernelspec": {
   "display_name": "Python 3",
   "language": "python",
   "name": "python3"
  },
  "language_info": {
   "codemirror_mode": {
    "name": "ipython",
    "version": 3
   },
   "file_extension": ".py",
   "mimetype": "text/x-python",
   "name": "python",
   "nbconvert_exporter": "python",
   "pygments_lexer": "ipython3",
   "version": "3.7.3"
  }
 },
 "nbformat": 4,
 "nbformat_minor": 2
}
