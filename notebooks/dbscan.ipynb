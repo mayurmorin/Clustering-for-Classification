{
 "cells": [
  {
   "cell_type": "code",
   "execution_count": 14,
   "metadata": {},
   "outputs": [
    {
     "name": "stdout",
     "output_type": "stream",
     "text": [
      "Number of Noise Points: 1537 (1537)\n"
     ]
    }
   ],
   "source": [
    "import sys\n",
    "\n",
    "from sklearn.cluster import DBSCAN\n",
    "from sklearn import metrics\n",
    "from sklearn.preprocessing import StandardScaler\n",
    "\n",
    "from scipy.stats import zscore\n",
    "import numpy as np\n",
    "import pandas as pd\n",
    "\n",
    "#from data_visualizer import *\n",
    "import collections\n",
    "\n",
    "data = pd.read_csv('../data/raw/Data Cleaning.csv')\n",
    "#print(data)\n",
    "#data = zscore(data)\n",
    "#print(data)\n",
    "#data = StandardScaler().fit_transform(data)\n",
    "#print(data)\n",
    "\n",
    "def db_scan(data, eps, min_samples, metric):\n",
    "    dbscan = DBSCAN(eps=eps, min_samples=min_samples, metric=metric).fit_predict(data)\n",
    "    print(\"Number of Noise Points: \",sum(dbscan==-1),\" (\",len(dbscan),\")\",sep='')\n",
    "\n",
    "    #print(dbscan)\n",
    "    #print(metrics.silhouette_score(data, dbscan.labels_))\n",
    "    #print(collections.Counter(dbscan.labels_))\n",
    "    #reduced_data = reduce_with_pca(data)\n",
    "    #plot_2d_data(reduced_data, dbscan.labels_)\n",
    "\n",
    "db_scan(data, 0.001, 15, 'euclidean')"
   ]
  },
  {
   "cell_type": "code",
   "execution_count": null,
   "metadata": {},
   "outputs": [],
   "source": []
  }
 ],
 "metadata": {
  "kernelspec": {
   "display_name": "Python 3",
   "language": "python",
   "name": "python3"
  },
  "language_info": {
   "codemirror_mode": {
    "name": "ipython",
    "version": 3
   },
   "file_extension": ".py",
   "mimetype": "text/x-python",
   "name": "python",
   "nbconvert_exporter": "python",
   "pygments_lexer": "ipython3",
   "version": "3.7.3"
  }
 },
 "nbformat": 4,
 "nbformat_minor": 2
}
